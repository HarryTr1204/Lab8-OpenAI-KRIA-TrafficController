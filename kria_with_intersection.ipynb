{
 "cells": [
  {
   "cell_type": "markdown",
   "metadata": {},
   "source": [
    "# Using PS GPIO with PYNQ\n",
    "\n",
    "## Goal\n",
    "\n",
    "The aim of this notebook is to show how to use the Zynq PS GPIO from PYNQ. The PS GPIO are simple wires from the PS, and don't need a controller in the programmable logic. \n",
    "\n",
    "Up to 96 input, output and tri-state PS GPIO are available via the EMIO in the Zynq Ultrascale+. They can be used to connect simple control and data signals to IP or external Inputs/Outputs in the PL. \n",
    "\n",
    "\n",
    "## Hardware \n",
    "\n",
    "This example uses a bitstream that connects PS GPIO to the PMod on the KV260.\n",
    "\n",
    "![PS GPIO Design](./ps_gpio_kv260_bd.png \"PS GPIO Design\")"
   ]
  },
  {
   "cell_type": "markdown",
   "metadata": {},
   "source": [
    "### External Peripherals\n",
    "An LED, a Slider switch and a Buzzer are connected via the Pmod connector and a Grove adapter. These will be used to demonstrate the PS GPIO are working.\n",
    "\n",
    "![](./KRIA_KV260.png)"
   ]
  },
  {
   "cell_type": "markdown",
   "metadata": {},
   "source": [
    "### Download the tutorial overlay\n",
    "\n",
    "The `ps_gpio_kv260.bit` and `ps_gpio_kv260.hwh` files are in the `ps_gpio` directory local to this folder. \n",
    "The bitstream can be downloaded using the PYNQ `Overlay` class. "
   ]
  },
  {
   "cell_type": "code",
   "execution_count": 91,
   "metadata": {},
   "outputs": [],
   "source": [
    "from pynq import Overlay\n",
    "ps_gpio_design = Overlay(\"./ps_gpio_kv260.bit\")"
   ]
  },
  {
   "cell_type": "markdown",
   "metadata": {},
   "source": [
    "## PYNQ GPIO class\n",
    "\n",
    "The PYNQ GPIO class will be used to access the PS GPIO. "
   ]
  },
  {
   "cell_type": "code",
   "execution_count": 92,
   "metadata": {},
   "outputs": [],
   "source": [
    "from pynq import GPIO"
   ]
  },
  {
   "cell_type": "markdown",
   "metadata": {},
   "source": [
    "### GPIO help"
   ]
  },
  {
   "cell_type": "code",
   "execution_count": null,
   "metadata": {},
   "outputs": [],
   "source": []
  },
  {
   "cell_type": "markdown",
   "metadata": {},
   "source": [
    "### Create Python GPIO objects for the led, slider and buzzer and set the direction:"
   ]
  },
  {
   "cell_type": "code",
   "execution_count": 96,
   "metadata": {},
   "outputs": [],
   "source": [
    "led1 = GPIO(GPIO.get_gpio_pin(5), 'out')\n",
    "led2 = GPIO(GPIO.get_gpio_pin(0), 'out')\n",
    "led3 = GPIO(GPIO.get_gpio_pin(4), 'out')\n",
    "\n",
    "led4 = GPIO(GPIO.get_gpio_pin(2), 'out')\n",
    "led5 = GPIO(GPIO.get_gpio_pin(7), 'out')\n",
    "led6 = GPIO(GPIO.get_gpio_pin(3), 'out')\n",
    "\n",
    "CountDown = GPIO(GPIO.get_gpio_pin(6), 'out')"
   ]
  },
  {
   "cell_type": "markdown",
   "metadata": {},
   "source": [
    " ## Test every LED"
   ]
  },
  {
   "cell_type": "code",
   "execution_count": 111,
   "metadata": {},
   "outputs": [],
   "source": [
    "from time import sleep\n",
    "DELAY = 0.5\n",
    "\n",
    "for i in range(2):\n",
    "    led1.write(0)\n",
    "    led2.write(0)\n",
    "    led3.write(0)\n",
    "    led4.write(0)\n",
    "    led5.write(0)\n",
    "    led6.write(0)\n",
    "    sleep(DELAY)\n",
    "\n",
    "    led1.write(1)\n",
    "    sleep(DELAY)\n",
    "    led2.write(1)\n",
    "    sleep(DELAY)\n",
    "    led3.write(1)\n",
    "    sleep(DELAY)\n",
    "    led4.write(1)\n",
    "    sleep(DELAY)\n",
    "    led5.write(1)\n",
    "    sleep(DELAY)\n",
    "    led6.write(1)\n",
    "    sleep(DELAY)\n",
    "led1.write(0)\n",
    "led2.write(0)\n",
    "led3.write(0)\n",
    "led4.write(0)\n",
    "led5.write(0)\n",
    "led6.write(0)"
   ]
  },
  {
   "cell_type": "code",
   "execution_count": null,
   "metadata": {},
   "outputs": [],
   "source": []
  },
  {
   "cell_type": "code",
   "execution_count": 118,
   "metadata": {},
   "outputs": [],
   "source": [
    "# Reset all to zero\n",
    "led1.write(0)\n",
    "led2.write(0)\n",
    "led3.write(0)\n",
    "\n",
    "led4.write(0)\n",
    "led5.write(0)\n",
    "led6.write(0)\n",
    "CountDown.write(0)"
   ]
  },
  {
   "cell_type": "code",
   "execution_count": 119,
   "metadata": {},
   "outputs": [],
   "source": [
    "# State machine\n",
    "\n",
    "# 1st state\n",
    "led4.write(1)\n",
    "led3.write(1)"
   ]
  },
  {
   "cell_type": "code",
   "execution_count": 120,
   "metadata": {},
   "outputs": [],
   "source": [
    "# 2nd state to 3rd state - When passenger press the button\n",
    "from time import sleep\n",
    "DELAY = 1.5\n",
    "\n",
    "led4.write(0)\n",
    "led3.write(1)\n",
    "led5.write(1)\n",
    "sleep(DELAY)\n",
    "\n",
    "led5.write(0)\n",
    "led6.write(1)\n",
    "sleep(DELAY)\n",
    "\n",
    "led3.write(0)\n",
    "led1.write(1)\n",
    "CountDown.write(1)\n",
    "\n",
    "# 4th state\n",
    "sleep(5)\n",
    "led1.write(0)\n",
    "led2.write(1)\n",
    "CountDown.write(0)\n",
    "sleep(DELAY)\n",
    "\n",
    "led2.write(0)\n",
    "led3.write(1)\n",
    "sleep(DELAY)\n",
    "\n",
    "led4.write(1)\n",
    "led3.write(1)\n",
    "led6.write(0)"
   ]
  },
  {
   "cell_type": "code",
   "execution_count": null,
   "metadata": {},
   "outputs": [],
   "source": []
  },
  {
   "cell_type": "code",
   "execution_count": null,
   "metadata": {},
   "outputs": [],
   "source": []
  }
 ],
 "metadata": {
  "kernelspec": {
   "display_name": "Python 3",
   "language": "python",
   "name": "python3"
  },
  "language_info": {
   "codemirror_mode": {
    "name": "ipython",
    "version": 3
   },
   "file_extension": ".py",
   "mimetype": "text/x-python",
   "name": "python",
   "nbconvert_exporter": "python",
   "pygments_lexer": "ipython3",
   "version": "3.8.10"
  }
 },
 "nbformat": 4,
 "nbformat_minor": 4
}
